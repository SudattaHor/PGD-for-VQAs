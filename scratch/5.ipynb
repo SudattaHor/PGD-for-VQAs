{
 "cells": [
  {
   "cell_type": "code",
   "execution_count": 12,
   "metadata": {},
   "outputs": [],
   "source": [
    "\"\"\" Classes for each VQA\"\"\"\n",
    "\n",
    "from pennylane import numpy as np\n",
    "import pennylane as qml\n",
    "import networkx as nx\n",
    "from pennylane import qaoa\n",
    "\n",
    "\n",
    "class QAOA_MaxCut:\n",
    "    \"\"\"\n",
    "    VQA with StronglyEntangling layers as the ansatz and Z1+Z2+Z3+Z4 as the Hamiltonian\n",
    "    Pennylane\n",
    "    \"\"\"\n",
    "\n",
    "    def __init__(self, max_iterations=100, step_size=0.01, conv_tol=1e-05, noise_lvl=0):\n",
    "\n",
    "        # OPTIMIZATION PARAMETERS\n",
    "        self.max_iterations = max_iterations\n",
    "        self.conv_tol = conv_tol\n",
    "        self.noise_lvl = noise_lvl\n",
    "        self.opt = qml.GradientDescentOptimizer(step_size)\n",
    "\n",
    "        # CIRCUIT PARAMETERS\n",
    "        nqubits = 4\n",
    "        nlayers = 2\n",
    "\n",
    "        # DEFINE GRAPH\n",
    "        edges = [(0, 1), (1, 2), (2, 0), (2, 3)]\n",
    "        graph = nx.Graph(edges)\n",
    "\n",
    "        # DEVICE\n",
    "        dev = qml.device('default.mixed', wires=nqubits)\n",
    "\n",
    "        # HAMILTONIANS\n",
    "        cost_h, mixer_h = qaoa.min_vertex_cover(graph, constrained=False)\n",
    "\n",
    "        # ANSTAZ AND COST\n",
    "        def qaoa_layer(gamma, alpha):\n",
    "            qaoa.cost_layer(gamma, cost_h)\n",
    "            qaoa.mixer_layer(alpha, mixer_h)\n",
    "\n",
    "        @qml.qnode(dev)\n",
    "        def cost(params):\n",
    "            for i in range(nqubits):\n",
    "                qml.Hadamard(wires=i)\n",
    "            qml.layer(qaoa_layer, nlayers, params[0], params[1])\n",
    "            return qml.expval(cost_h)\n",
    "        self.cost = cost\n",
    "        self.param_shape = (2, nlayers)\n",
    "\n",
    "    def __call__(self, initial_params, ):\n",
    "        params = initial_params\n",
    "        cost_hist = []\n",
    "        for _ in range(self.max_iterations):\n",
    "            params, prev_energy = self.opt.step_and_cost(self.cost, params)\n",
    "            params += np.random.normal(loc=0, scale=self.noise_lvl, size=params.shape)\n",
    "            cost_hist.append(prev_energy)\n",
    "            energy = self.cost(params)\n",
    "            # conv = np.abs(energy - prev_energy)\n",
    "            # if conv <= self.conv_tol: break\n",
    "        return cost_hist, energy, params\n"
   ]
  },
  {
   "cell_type": "code",
   "execution_count": 13,
   "metadata": {},
   "outputs": [],
   "source": [
    "A = QAOA_MaxCut()"
   ]
  },
  {
   "cell_type": "code",
   "execution_count": 19,
   "metadata": {},
   "outputs": [
    {
     "data": {
      "text/plain": [
       "-1.5720009432822617"
      ]
     },
     "execution_count": 19,
     "metadata": {},
     "output_type": "execute_result"
    }
   ],
   "source": [
    "initial_params = np.array([[0.5, 0.5], [0.5, 0.5]])\n",
    "hist, result_cost, result_param = A(initial_params)\n",
    "result_cost"
   ]
  },
  {
   "cell_type": "code",
   "execution_count": 20,
   "metadata": {},
   "outputs": [
    {
     "data": {
      "text/plain": [
       "-1.5720009416368115"
      ]
     },
     "execution_count": 20,
     "metadata": {},
     "output_type": "execute_result"
    }
   ],
   "source": [
    "opt_param = np.array([[0.59806352, 0.94198485], [0.52797281, 0.85552845]], requires_grad=True)\n",
    "A.cost(opt_param)"
   ]
  },
  {
   "cell_type": "code",
   "execution_count": 21,
   "metadata": {},
   "outputs": [
    {
     "data": {
      "image/png": "[encoded data removed]",
      "text/plain": [
       "<Figure size 640x480 with 1 Axes>"
      ]
     },
     "metadata": {},
     "output_type": "display_data"
    }
   ],
   "source": [
    "import matplotlib.pyplot as plt\n",
    "\n",
    "plt.plot(hist)\n",
    "plt.show()"
   ]
  }
 ],
 "metadata": {
  "kernelspec": {
   "display_name": "Python 3.9.12 ('base')",
   "language": "python",
   "name": "python3"
  },
  "language_info": {
   "codemirror_mode": {
    "name": "ipython",
    "version": 3
   },
   "file_extension": ".py",
   "mimetype": "text/x-python",
   "name": "python",
   "nbconvert_exporter": "python",
   "pygments_lexer": "ipython3",
   "version": "3.9.12"
  },
  "orig_nbformat": 4,
  "vscode": {
   "interpreter": {
    "hash": "20e93c9217e50f5b7e8f58f0ec1a125a9f1281af040fc29b342dc4e96a3c4fdb"
   }
  }
 },
 "nbformat": 4,
 "nbformat_minor": 2
}
