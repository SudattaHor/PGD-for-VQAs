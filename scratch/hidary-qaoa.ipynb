{
 "cells": [
  {
   "cell_type": "code",
   "execution_count": 2,
   "metadata": {},
   "outputs": [],
   "source": [
    "# Imports\n",
    "import numpy as np\n",
    "import matplotlib.pyplot as plt\n",
    "\n",
    "import cirq"
   ]
  },
  {
   "cell_type": "code",
   "execution_count": 3,
   "metadata": {},
   "outputs": [],
   "source": [
    "# Function to implement a ZZ gate on qubits a, b with angle gamma\n",
    "def ZZ(a, b, gamma):\n",
    "    \"\"\"Returns a circuit implementing exp(-i \\pi \\gamma Z_i Z_j).\"\"\"\n",
    "    # Get a circuit\n",
    "    circuit = cirq.Circuit()\n",
    "\n",
    "    # Gives the fourth diagonal component\n",
    "    circuit.append(cirq.CZ(a, b) ** gamma)\n",
    "\n",
    "    # Gives the third diagonal component\n",
    "    circuit.append([cirq.X(b), cirq.CZ(a, b) ** (-1 * gamma), cirq.X(b)])\n",
    "\n",
    "    # Gives the second diagonal component\n",
    "    circuit.append([cirq.X(a), cirq.CZ(a, b) ** -gamma, cirq.X(a)])\n",
    "\n",
    "    # Gives the first diagonal component\n",
    "    circuit.append([cirq.X(a), cirq.X(b), cirq.CZ(a, b) ** gamma,\n",
    "                    cirq.X(a), cirq.X(b)])\n",
    "\n",
    "    return circuit\n"
   ]
  },
  {
   "cell_type": "code",
   "execution_count": 4,
   "metadata": {},
   "outputs": [
    {
     "name": "stdout",
     "output_type": "stream",
     "text": [
      "Circuit for ZZ gate:\n",
      "0: ───@───────────@────────X───@────────X───X───@───────X───\n",
      "      │           │            │                │\n",
      "1: ───@^0.5───X───@^-0.5───X───@^-0.5───X───────@^0.5───X───\n",
      "\n",
      "Unitary of circuit:\n",
      "[[0.+1.j 0.+0.j 0.+0.j 0.+0.j]\n",
      " [0.+0.j 0.-1.j 0.+0.j 0.+0.j]\n",
      " [0.+0.j 0.+0.j 0.-1.j 0.+0.j]\n",
      " [0.+0.j 0.+0.j 0.+0.j 0.+1.j]]\n"
     ]
    }
   ],
   "source": [
    "# Make sure the circuit gives the correct matrix\n",
    "qreg = cirq.LineQubit.range(2)\n",
    "zzcirc = ZZ(qreg[0], qreg[1], 0.5)\n",
    "print(\"Circuit for ZZ gate:\", zzcirc, sep=\"\\n\")\n",
    "print(\"\\nUnitary of circuit:\", zzcirc.unitary().round(2), sep=\"\\n\")"
   ]
  },
  {
   "cell_type": "code",
   "execution_count": 5,
   "metadata": {},
   "outputs": [],
   "source": [
    "ncols = 2\n",
    "nrows = 2\n",
    "qreg = [[cirq.GridQubit(i,j) for j in range(ncols)] for i in range(nrows)]"
   ]
  },
  {
   "cell_type": "code",
   "execution_count": 6,
   "metadata": {},
   "outputs": [],
   "source": [
    "# Function to implement the cost Hamiltonian\n",
    "def cost_circuit(gamma):\n",
    "    \"\"\"Returns a circuit for the cost Hamiltonian.\"\"\"\n",
    "    circ = cirq.Circuit()\n",
    "    for i in range(nrows):\n",
    "        for j in range(ncols):\n",
    "            if i < nrows - 1:\n",
    "                circ += ZZ(qreg[i][j], qreg[i + 1][j], gamma)\n",
    "            if j < ncols - 1:\n",
    "                circ += ZZ(qreg[i][j], qreg[i][j + 1], gamma)\n",
    "\n",
    "    return circ"
   ]
  },
  {
   "cell_type": "code",
   "execution_count": 7,
   "metadata": {},
   "outputs": [],
   "source": [
    "# Function to implement the mixer Hamiltonian\n",
    "def mixer(beta):\n",
    "  \"\"\"Generator for U(H_B, beta) layer (mixing layer)\"\"\"\n",
    "  for row in qreg:\n",
    "    for qubit in row:\n",
    "      yield cirq.X(qubit)**beta"
   ]
  },
  {
   "cell_type": "code",
   "execution_count": 8,
   "metadata": {},
   "outputs": [],
   "source": [
    "# Function to build the QAOA circuit\n",
    "def qaoa(gammas, betas):\n",
    "    \"\"\"Returns a QAOA circuit.\"\"\"\n",
    "    circ = cirq.Circuit()\n",
    "    circ.append(cirq.H.on_each(*[q for row in qreg for q in row]))\n",
    "\n",
    "    for i in range(len(gammas)):\n",
    "        circ += cost_circuit(gammas[i])\n",
    "        circ.append(mixer(betas[i]))"
   ]
  },
  {
   "cell_type": "code",
   "execution_count": 9,
   "metadata": {},
   "outputs": [],
   "source": [
    "def simulate(circ):\n",
    "    \"\"\"Returns the wavefunction after applying the circuit.\"\"\"\n",
    "    sim = cirq.Simulator()\n",
    "    return sim.simulate(circ).final_state_vector\n"
   ]
  },
  {
   "cell_type": "code",
   "execution_count": 10,
   "metadata": {},
   "outputs": [],
   "source": [
    "def energy_from_wavefunction(wf):\n",
    "    \"\"\"Computes the energy-per-site of the Ising Model from the wavefunction.\"\"\"\n",
    "    # Z is a (n_sites x 2**n_sites) array. Each row consists of the\n",
    "    # 2**n_sites non-zero entries in the operator that is the Pauli-Z matrix on\n",
    "    # one of the qubits times the identites on the other qubits. The (i*n_cols + j)th\n",
    "    # row corresponds to qubit (i,j).\n",
    "    nsites = nrows * ncols\n",
    "    Z = np.array([(-1) ** (np.arange(2 ** nsites) >> i)\n",
    "                  for i in range(nsites - 1, -1, -1)])\n",
    "\n",
    "    # Create the operator corresponding to the interaction energy summed over all\n",
    "    # nearest-neighbor pairs of qubits\n",
    "    ZZ_filter = np.zeros_like(wf, dtype=float)\n",
    "    for i in range(nrows):\n",
    "        for j in range(ncols):\n",
    "            if i < nrows - 1:\n",
    "                ZZ_filter += Z[i * ncols + j] * Z[(i + 1) * ncols + j]\n",
    "            if j < ncols - 1:\n",
    "                ZZ_filter += Z[i * ncols + j] * Z[i * ncols + (j + 1)]\n",
    "\n",
    "    # Expectation value of the energy divided by the number of sites\n",
    "    return -np.sum(np.abs(wf) ** 2 * ZZ_filter) / nsites"
   ]
  },
  {
   "cell_type": "code",
   "execution_count": 11,
   "metadata": {},
   "outputs": [],
   "source": [
    "def cost(gammas, betas):\n",
    "    \"\"\"Returns the cost function of the problem.\"\"\"\n",
    "    wavefunction = simulate(qaoa(gammas, betas))\n",
    "    return energy_from_wavefunction(wavefunction)"
   ]
  },
  {
   "cell_type": "code",
   "execution_count": 12,
   "metadata": {},
   "outputs": [],
   "source": [
    "def grid_search(gammavals, betavals):\n",
    "    \"\"\"Does a grid search over all parameter values.\"\"\"\n",
    "    costmat = np.zeros((len(gammavals), len(betavals)))\n",
    "\n",
    "    for (i, gamma) in enumerate(gammavals):\n",
    "        for (j, beta) in enumerate(betavals):\n",
    "            costmat[i, j] = cost([gamma], [beta])\n",
    "\n",
    "    return costmat\n"
   ]
  },
  {
   "cell_type": "code",
   "execution_count": 13,
   "metadata": {},
   "outputs": [
    {
     "ename": "AttributeError",
     "evalue": "'NoneType' object has no attribute 'all_qubits'",
     "output_type": "error",
     "traceback": [
      "\u001b[0;31m---------------------------------------------------------------------------\u001b[0m",
      "\u001b[0;31mAttributeError\u001b[0m                            Traceback (most recent call last)",
      "Cell \u001b[0;32mIn [13], line 6\u001b[0m\n\u001b[1;32m      3\u001b[0m betavals \u001b[39m=\u001b[39m np\u001b[39m.\u001b[39mlinspace(\u001b[39m0\u001b[39m, np\u001b[39m.\u001b[39mpi, \u001b[39m75\u001b[39m)\n\u001b[1;32m      5\u001b[0m \u001b[39m# Compute the cost at all parameter values using a grid search\u001b[39;00m\n\u001b[0;32m----> 6\u001b[0m costmat \u001b[39m=\u001b[39m grid_search(gammavals, betavals)\n",
      "Cell \u001b[0;32mIn [12], line 7\u001b[0m, in \u001b[0;36mgrid_search\u001b[0;34m(gammavals, betavals)\u001b[0m\n\u001b[1;32m      5\u001b[0m \u001b[39mfor\u001b[39;00m (i, gamma) \u001b[39min\u001b[39;00m \u001b[39menumerate\u001b[39m(gammavals):\n\u001b[1;32m      6\u001b[0m     \u001b[39mfor\u001b[39;00m (j, beta) \u001b[39min\u001b[39;00m \u001b[39menumerate\u001b[39m(betavals):\n\u001b[0;32m----> 7\u001b[0m         costmat[i, j] \u001b[39m=\u001b[39m cost([gamma], [beta])\n\u001b[1;32m      9\u001b[0m \u001b[39mreturn\u001b[39;00m costmat\n",
      "Cell \u001b[0;32mIn [11], line 3\u001b[0m, in \u001b[0;36mcost\u001b[0;34m(gammas, betas)\u001b[0m\n\u001b[1;32m      1\u001b[0m \u001b[39mdef\u001b[39;00m \u001b[39mcost\u001b[39m(gammas, betas):\n\u001b[1;32m      2\u001b[0m     \u001b[39m\"\"\"Returns the cost function of the problem.\"\"\"\u001b[39;00m\n\u001b[0;32m----> 3\u001b[0m     wavefunction \u001b[39m=\u001b[39m simulate(qaoa(gammas, betas))\n\u001b[1;32m      4\u001b[0m     \u001b[39mreturn\u001b[39;00m energy_from_wavefunction(wavefunction)\n",
      "Cell \u001b[0;32mIn [9], line 4\u001b[0m, in \u001b[0;36msimulate\u001b[0;34m(circ)\u001b[0m\n\u001b[1;32m      2\u001b[0m \u001b[39m\"\"\"Returns the wavefunction after applying the circuit.\"\"\"\u001b[39;00m\n\u001b[1;32m      3\u001b[0m sim \u001b[39m=\u001b[39m cirq\u001b[39m.\u001b[39mSimulator()\n\u001b[0;32m----> 4\u001b[0m \u001b[39mreturn\u001b[39;00m sim\u001b[39m.\u001b[39;49msimulate(circ)\u001b[39m.\u001b[39mfinal_state_vector\n",
      "File \u001b[0;32m~/miniconda3/lib/python3.9/site-packages/cirq/sim/simulator.py:491\u001b[0m, in \u001b[0;36mSimulatesFinalState.simulate\u001b[0;34m(self, program, param_resolver, qubit_order, initial_state)\u001b[0m\n\u001b[1;32m    466\u001b[0m \u001b[39mdef\u001b[39;00m \u001b[39msimulate\u001b[39m(\n\u001b[1;32m    467\u001b[0m     \u001b[39mself\u001b[39m,\n\u001b[1;32m    468\u001b[0m     program: \u001b[39m'\u001b[39m\u001b[39mcirq.AbstractCircuit\u001b[39m\u001b[39m'\u001b[39m,\n\u001b[0;32m   (...)\u001b[0m\n\u001b[1;32m    471\u001b[0m     initial_state: Any \u001b[39m=\u001b[39m \u001b[39mNone\u001b[39;00m,\n\u001b[1;32m    472\u001b[0m ) \u001b[39m-\u001b[39m\u001b[39m>\u001b[39m TSimulationTrialResult:\n\u001b[1;32m    473\u001b[0m     \u001b[39m\"\"\"Simulates the supplied Circuit.\u001b[39;00m\n\u001b[1;32m    474\u001b[0m \n\u001b[1;32m    475\u001b[0m \u001b[39m    This method returns a result which allows access to the entire\u001b[39;00m\n\u001b[0;32m   (...)\u001b[0m\n\u001b[1;32m    489\u001b[0m \u001b[39m        SimulationTrialResults for the simulation. Includes the final state.\u001b[39;00m\n\u001b[1;32m    490\u001b[0m \u001b[39m    \"\"\"\u001b[39;00m\n\u001b[0;32m--> 491\u001b[0m     \u001b[39mreturn\u001b[39;00m \u001b[39mself\u001b[39;49m\u001b[39m.\u001b[39;49msimulate_sweep(\n\u001b[1;32m    492\u001b[0m         program, study\u001b[39m.\u001b[39;49mParamResolver(param_resolver), qubit_order, initial_state\n\u001b[1;32m    493\u001b[0m     )[\u001b[39m0\u001b[39m]\n",
      "File \u001b[0;32m~/miniconda3/lib/python3.9/site-packages/cirq/sim/simulator.py:506\u001b[0m, in \u001b[0;36mSimulatesFinalState.simulate_sweep\u001b[0;34m(self, program, params, qubit_order, initial_state)\u001b[0m\n\u001b[1;32m    495\u001b[0m \u001b[39mdef\u001b[39;00m \u001b[39msimulate_sweep\u001b[39m(\n\u001b[1;32m    496\u001b[0m     \u001b[39mself\u001b[39m,\n\u001b[1;32m    497\u001b[0m     program: \u001b[39m'\u001b[39m\u001b[39mcirq.AbstractCircuit\u001b[39m\u001b[39m'\u001b[39m,\n\u001b[0;32m   (...)\u001b[0m\n\u001b[1;32m    500\u001b[0m     initial_state: Any \u001b[39m=\u001b[39m \u001b[39mNone\u001b[39;00m,\n\u001b[1;32m    501\u001b[0m ) \u001b[39m-\u001b[39m\u001b[39m>\u001b[39m List[TSimulationTrialResult]:\n\u001b[1;32m    502\u001b[0m     \u001b[39m\"\"\"Wraps computed states in a list.\u001b[39;00m\n\u001b[1;32m    503\u001b[0m \n\u001b[1;32m    504\u001b[0m \u001b[39m    Prefer overriding `simulate_sweep_iter`.\u001b[39;00m\n\u001b[1;32m    505\u001b[0m \u001b[39m    \"\"\"\u001b[39;00m\n\u001b[0;32m--> 506\u001b[0m     \u001b[39mreturn\u001b[39;00m \u001b[39mlist\u001b[39;49m(\u001b[39mself\u001b[39;49m\u001b[39m.\u001b[39;49msimulate_sweep_iter(program, params, qubit_order, initial_state))\n",
      "File \u001b[0;32m~/miniconda3/lib/python3.9/site-packages/cirq/sim/simulator_base.py:319\u001b[0m, in \u001b[0;36mSimulatorBase.simulate_sweep_iter\u001b[0;34m(self, program, params, qubit_order, initial_state)\u001b[0m\n\u001b[1;32m    316\u001b[0m \u001b[39mdef\u001b[39;00m \u001b[39msweep_prefixable\u001b[39m(op: \u001b[39m'\u001b[39m\u001b[39mcirq.Operation\u001b[39m\u001b[39m'\u001b[39m):\n\u001b[1;32m    317\u001b[0m     \u001b[39mreturn\u001b[39;00m \u001b[39mself\u001b[39m\u001b[39m.\u001b[39m_can_be_in_run_prefix(op) \u001b[39mand\u001b[39;00m \u001b[39mnot\u001b[39;00m protocols\u001b[39m.\u001b[39mis_parameterized(op)\n\u001b[0;32m--> 319\u001b[0m qubits \u001b[39m=\u001b[39m ops\u001b[39m.\u001b[39mQubitOrder\u001b[39m.\u001b[39mas_qubit_order(qubit_order)\u001b[39m.\u001b[39morder_for(program\u001b[39m.\u001b[39;49mall_qubits())\n\u001b[1;32m    320\u001b[0m initial_state \u001b[39m=\u001b[39m \u001b[39m0\u001b[39m \u001b[39mif\u001b[39;00m initial_state \u001b[39mis\u001b[39;00m \u001b[39mNone\u001b[39;00m \u001b[39melse\u001b[39;00m initial_state\n\u001b[1;32m    321\u001b[0m sim_state \u001b[39m=\u001b[39m \u001b[39mself\u001b[39m\u001b[39m.\u001b[39m_create_simulation_state(initial_state, qubits)\n",
      "\u001b[0;31mAttributeError\u001b[0m: 'NoneType' object has no attribute 'all_qubits'"
     ]
    }
   ],
   "source": [
    "# Get a range of parameters\n",
    "gammavals = np.linspace(0, 1.0, 50)\n",
    "betavals = np.linspace(0, np.pi, 75)\n",
    "\n",
    "# Compute the cost at all parameter values using a grid search\n",
    "costmat = grid_search(gammavals, betavals)"
   ]
  },
  {
   "cell_type": "code",
   "execution_count": null,
   "metadata": {},
   "outputs": [],
   "source": [
    "# Plot the cost landscape\n",
    "plt.imshow(costmat, extent=(0, 1, 0, np.pi), origin=\"lower\", aspect=\"auto\")\n",
    "plt.colorbar()\n",
    "plt.show()"
   ]
  }
 ],
 "metadata": {
  "kernelspec": {
   "display_name": "Python 3.9.12 ('base')",
   "language": "python",
   "name": "python3"
  },
  "language_info": {
   "codemirror_mode": {
    "name": "ipython",
    "version": 3
   },
   "file_extension": ".py",
   "mimetype": "text/x-python",
   "name": "python",
   "nbconvert_exporter": "python",
   "pygments_lexer": "ipython3",
   "version": "3.9.12"
  },
  "orig_nbformat": 4,
  "vscode": {
   "interpreter": {
    "hash": "20e93c9217e50f5b7e8f58f0ec1a125a9f1281af040fc29b342dc4e96a3c4fdb"
   }
  }
 },
 "nbformat": 4,
 "nbformat_minor": 2
}
