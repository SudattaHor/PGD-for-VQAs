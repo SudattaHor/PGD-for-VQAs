{
  "cells": [
    {
      "cell_type": "code",
      "execution_count": 1,
      "metadata": {},
      "outputs": [],
      "source": [
        "import matplotlib.pyplot as plt\n",
        "from pennylane import numpy as np\n",
        "import pennylane as qml"
      ]
    },
    {
      "cell_type": "code",
      "execution_count": 2,
      "metadata": {},
      "outputs": [
        {
          "name": "stdout",
          "output_type": "stream",
          "text": [
            "  (1.0) [Z0]\n",
            "+ (1.0) [Z1]\n",
            "+ (1.0) [Z2]\n",
            "+ (1.0) [Z3]\n"
          ]
        }
      ],
      "source": [
        "# HAMILTONIAN\n",
        "nqubits = 4\n",
        "coeffs = np.ones(nqubits)\n",
        "obs = [qml.PauliZ(i) for i in range(nqubits)]\n",
        "hamiltonian = qml.Hamiltonian(coeffs, obs)\n",
        "print(hamiltonian)"
      ]
    },
    {
      "cell_type": "code",
      "execution_count": 3,
      "metadata": {},
      "outputs": [
        {
          "name": "stdout",
          "output_type": "stream",
          "text": [
            "[[[0.97252485 0.45419912 0.26444932]\n",
            "  [0.5206713  0.43298856 0.22681604]\n",
            "  [0.53680998 0.88728903 0.97656399]\n",
            "  [0.70757694 0.83381451 0.79270477]]\n",
            "\n",
            " [[0.67121618 0.064187   0.15992042]\n",
            "  [0.88146502 0.78491736 0.02305105]\n",
            "  [0.6171727  0.16132    0.52272394]\n",
            "  [0.15353503 0.41538511 0.31865611]]]\n"
          ]
        }
      ],
      "source": [
        "# INITIAL POINT\n",
        "shape = qml.StronglyEntanglingLayers.shape(n_layers=2, n_wires=nqubits)\n",
        "params_0 = np.random.random(size=shape)\n",
        "print(params_0)"
      ]
    },
    {
      "cell_type": "code",
      "execution_count": 6,
      "metadata": {},
      "outputs": [
        {
          "name": "stdout",
          "output_type": "stream",
          "text": [
            "0: ──Rot(0.97,0.45,0.26)─╭●───────╭X──Rot(0.67,0.06,0.16)─╭●────╭X────┤ ╭<𝓗>\n",
            "1: ──Rot(0.52,0.43,0.23)─╰X─╭●────│───Rot(0.88,0.78,0.02)─│──╭●─│──╭X─┤ ├<𝓗>\n",
            "2: ──Rot(0.54,0.89,0.98)────╰X─╭●─│───Rot(0.62,0.16,0.52)─╰X─│──╰●─│──┤ ├<𝓗>\n",
            "3: ──Rot(0.71,0.83,0.79)───────╰X─╰●──Rot(0.15,0.42,0.32)────╰X────╰●─┤ ╰<𝓗>\n",
            "(2, 4, 3)\n"
          ]
        },
        {
          "ename": "TypeError",
          "evalue": "compute_decomposition() missing 4 required positional arguments: 'weights', 'wires', 'ranges', and 'imprimitive'",
          "output_type": "error",
          "traceback": [
            "\u001b[0;31m---------------------------------------------------------------------------\u001b[0m",
            "\u001b[0;31mTypeError\u001b[0m                                 Traceback (most recent call last)",
            "Cell \u001b[0;32mIn [6], line 11\u001b[0m\n\u001b[1;32m      9\u001b[0m \u001b[39mprint\u001b[39m(qml\u001b[39m.\u001b[39mdraw(cost, expansion_strategy\u001b[39m=\u001b[39m\u001b[39m\"\u001b[39m\u001b[39mdevice\u001b[39m\u001b[39m\"\u001b[39m)(params_0))\n\u001b[1;32m     10\u001b[0m \u001b[39mprint\u001b[39m(params_0\u001b[39m.\u001b[39mshape)\n\u001b[0;32m---> 11\u001b[0m \u001b[39mprint\u001b[39m(qml\u001b[39m.\u001b[39;49mStronglyEntanglingLayers(weights\u001b[39m=\u001b[39;49mparams_0, wires\u001b[39m=\u001b[39;49m\u001b[39mrange\u001b[39;49m(nqubits))\u001b[39m.\u001b[39;49mcompute_decomposition())\n",
            "\u001b[0;31mTypeError\u001b[0m: compute_decomposition() missing 4 required positional arguments: 'weights', 'wires', 'ranges', and 'imprimitive'"
          ]
        }
      ],
      "source": [
        "# ANSTAZ AND COST\n",
        "dev = qml.device('default.qubit', wires=nqubits)\n",
        "\n",
        "@qml.qnode(dev)\n",
        "def cost(parameters):\n",
        "    qml.StronglyEntanglingLayers(weights=parameters, wires=range(nqubits))\n",
        "    return qml.expval(hamiltonian)\n",
        "\n",
        "print(qml.draw(cost, expansion_strategy=\"device\")(params_0))\n",
        "print(params_0.shape)"
      ]
    },
    {
      "cell_type": "code",
      "execution_count": 12,
      "metadata": {
        "collapsed": false
      },
      "outputs": [
        {
          "name": "stdout",
          "output_type": "stream",
          "text": [
            "Iteration = 0,  Energy = 0.01576314 Ha\n",
            "Iteration = 20,  Energy = -3.99535033 Ha\n",
            "Iteration = 40,  Energy = -3.99538953 Ha\n",
            "Iteration = 60,  Energy = -3.98967315 Ha\n",
            "Iteration = 80,  Energy = -3.99682487 Ha\n"
          ]
        }
      ],
      "source": [
        "# OPTIMIZATION PARAMETERS\n",
        "max_iterations = 100\n",
        "step_size = 0.5\n",
        "conv_tol = 1e-05\n",
        "epsilon = .01\n",
        "# OPTIMIZER\n",
        "opt = qml.GradientDescentOptimizer(step_size)\n",
        "params = params_0\n",
        "gd_cost = []\n",
        "for n in range(max_iterations):\n",
        "    params, prev_energy = opt.step_and_cost(cost, params)\n",
        "    params = params + np.random.normal(loc=0, scale=epsilon, size=shape)\n",
        "    gd_cost.append(prev_energy)\n",
        "    energy = cost(params)\n",
        "    conv = np.abs(energy - prev_energy)\n",
        "    if n % 20 == 0: print(\"Iteration = {:},  Energy = {:.8f} Ha\".format(n, energy))\n",
        "    if conv <= conv_tol: break"
      ]
    },
    {
      "cell_type": "code",
      "execution_count": 10,
      "metadata": {
        "collapsed": false
      },
      "outputs": [
        {
          "name": "stdout",
          "output_type": "stream",
          "text": [
            "Iteration = 0,  Energy = -0.32164519 Ha\n",
            "Iteration = 4,  Energy = -0.46875033 Ha\n",
            "Iteration = 8,  Energy = -0.85091050 Ha\n",
            "Iteration = 12,  Energy = -1.13575339 Ha\n",
            "Iteration = 16,  Energy = -1.13618916 Ha\n"
          ]
        }
      ],
      "source": [
        "opt = qml.QNGOptimizer(step_size, lam=0.001, approx=\"block-diag\")\n",
        "params = params_0\n",
        "prev_energy = cost(params)\n",
        "qngd_cost = []\n",
        "for n in range(max_iterations):\n",
        "    params, prev_energy = opt.step_and_cost(cost, params)\n",
        "    params = params + np.random.normal(loc=0, scale=epsilon, size=len(params))\n",
        "    qngd_cost.append(prev_energy)\n",
        "    energy = cost(params)\n",
        "    conv = np.abs(energy - prev_energy)\n",
        "    if n % 4 == 0: print(\"Iteration = {:},  Energy = {:.8f} Ha\".format(n, energy))\n",
        "    if conv <= conv_tol: break"
      ]
    }
  ],
  "metadata": {
    "kernelspec": {
      "display_name": "Python 3.9.12 ('base')",
      "language": "python",
      "name": "python3"
    },
    "language_info": {
      "codemirror_mode": {
        "name": "ipython",
        "version": 3
      },
      "file_extension": ".py",
      "mimetype": "text/x-python",
      "name": "python",
      "nbconvert_exporter": "python",
      "pygments_lexer": "ipython3",
      "version": "3.9.12"
    },
    "vscode": {
      "interpreter": {
        "hash": "20e93c9217e50f5b7e8f58f0ec1a125a9f1281af040fc29b342dc4e96a3c4fdb"
      }
    }
  },
  "nbformat": 4,
  "nbformat_minor": 0
}
