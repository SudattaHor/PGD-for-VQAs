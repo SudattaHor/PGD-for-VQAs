{
  "cells": [
    {
      "cell_type": "code",
      "execution_count": 2,
      "metadata": {},
      "outputs": [],
      "source": [
        "import matplotlib.pyplot as plt\n",
        "from pennylane import numpy as np\n",
        "import pennylane as qml"
      ]
    },
    {
      "cell_type": "code",
      "execution_count": 10,
      "metadata": {
        "collapsed": false
      },
      "outputs": [
        {
          "data": {
            "text/plain": [
              "4"
            ]
          },
          "execution_count": 10,
          "metadata": {},
          "output_type": "execute_result"
        }
      ],
      "source": [
        "geo_file = \"h2.xyz\"\n",
        "symbols, coordinates = qml.qchem.read_structure(geo_file)\n",
        "hamiltonian, qubits = qml.qchem.molecular_hamiltonian(symbols, coordinates)"
      ]
    },
    {
      "cell_type": "code",
      "execution_count": 4,
      "metadata": {
        "collapsed": false
      },
      "outputs": [],
      "source": [
        "exact_value = -1.136189454088"
      ]
    },
    {
      "cell_type": "code",
      "execution_count": 5,
      "metadata": {
        "collapsed": false
      },
      "outputs": [],
      "source": [
        "np.random.seed(0)\n",
        "init_params = np.random.uniform(low=0, high=2 * np.pi, size=12, requires_grad=True)\n",
        "max_iterations = 500\n",
        "step_size = 0.5\n",
        "conv_tol = 1e-06\n",
        "epsilon = .01"
      ]
    },
    {
      "cell_type": "code",
      "execution_count": 12,
      "metadata": {
        "collapsed": false
      },
      "outputs": [],
      "source": [
        "dev = qml.device(\"default.qubit\", wires=qubits)\n",
        "hf_state = np.array([1, 1, 0, 0], requires_grad=False)\n",
        "\n",
        "def ansatz(params, wires=[0, 1, 2, 3]):\n",
        "    qml.BasisState(hf_state, wires=wires)\n",
        "    for i in wires:\n",
        "        qml.RZ(params[3 * i], wires=i)\n",
        "        qml.RY(params[3 * i + 1], wires=i)\n",
        "        qml.RZ(params[3 * i + 2], wires=i)\n",
        "    qml.CNOT(wires=[2, 3])\n",
        "    qml.CNOT(wires=[2, 0])\n",
        "    qml.CNOT(wires=[3, 1])"
      ]
    },
    {
      "cell_type": "code",
      "execution_count": 8,
      "metadata": {
        "collapsed": false
      },
      "outputs": [
        {
          "name": "stdout",
          "output_type": "stream",
          "text": [
            "0: ─╭BasisState(M0)──RZ(3.45)──RY(4.49)──RZ(3.79)────╭X────┤ ╭<𝓗>\n",
            "1: ─├BasisState(M0)──RZ(3.42)──RY(2.66)──RZ(4.06)────│──╭X─┤ ├<𝓗>\n",
            "2: ─├BasisState(M0)──RZ(2.75)──RY(5.60)──RZ(6.05)─╭●─╰●─│──┤ ├<𝓗>\n",
            "3: ─╰BasisState(M0)──RZ(2.41)──RY(4.97)──RZ(3.32)─╰X────╰●─┤ ╰<𝓗>\n"
          ]
        }
      ],
      "source": [
        "@qml.qnode(dev)\n",
        "def cost(params):\n",
        "    ansatz(params)\n",
        "    return qml.expval(hamiltonian)\n",
        "print(qml.draw(cost)(init_params))\n",
        "# print(init_params)\n",
        "# print(cost(init_params))"
      ]
    },
    {
      "cell_type": "code",
      "execution_count": 23,
      "metadata": {
        "collapsed": false
      },
      "outputs": [
        {
          "name": "stdout",
          "output_type": "stream",
          "text": [
            "Iteration = 0,  Energy = -0.08997094 Ha\n",
            "Iteration = 20,  Energy = -0.53417482 Ha\n",
            "Iteration = 40,  Energy = -1.12168512 Ha\n",
            "Iteration = 60,  Energy = -1.13440918 Ha\n",
            "Iteration = 80,  Energy = -1.13542509 Ha\n",
            "Iteration = 100,  Energy = -1.13575449 Ha\n",
            "Iteration = 120,  Energy = -1.13600557 Ha\n"
          ]
        }
      ],
      "source": [
        "opt = qml.GradientDescentOptimizer(step_size)\n",
        "\n",
        "params = init_params\n",
        "\n",
        "gd_cost = []\n",
        "\n",
        "for n in range(max_iterations):\n",
        "    params, prev_energy = opt.step_and_cost(cost, params)\n",
        "    params = params + np.random.normal(loc=0, scale=epsilon, size=len(params))\n",
        "    gd_cost.append(prev_energy)\n",
        "    energy = cost(params)\n",
        "    conv = np.abs(energy - prev_energy)\n",
        "    if n % 20 == 0: print(\"Iteration = {:},  Energy = {:.8f} Ha\".format(n, energy))\n",
        "    if conv <= conv_tol: break"
      ]
    },
    {
      "cell_type": "code",
      "execution_count": 10,
      "metadata": {
        "collapsed": false
      },
      "outputs": [
        {
          "name": "stdout",
          "output_type": "stream",
          "text": [
            "Iteration = 0,  Energy = -0.32164519 Ha\n",
            "Iteration = 4,  Energy = -0.46875033 Ha\n",
            "Iteration = 8,  Energy = -0.85091050 Ha\n",
            "Iteration = 12,  Energy = -1.13575339 Ha\n",
            "Iteration = 16,  Energy = -1.13618916 Ha\n"
          ]
        }
      ],
      "source": [
        "hamiltonian = qml.Hamiltonian(np.array(hamiltonian.coeffs, requires_grad=False), hamiltonian.ops)\n",
        "\n",
        "opt = qml.QNGOptimizer(step_size, lam=0.001, approx=\"block-diag\")\n",
        "\n",
        "params = init_params\n",
        "prev_energy = cost(params)\n",
        "qngd_cost = []\n",
        "\n",
        "for n in range(max_iterations):\n",
        "    params, prev_energy = opt.step_and_cost(cost, params)\n",
        "    params = params + np.random.normal(loc=0, scale=epsilon, size=len(params))\n",
        "    qngd_cost.append(prev_energy)\n",
        "    energy = cost(params)\n",
        "    conv = np.abs(energy - prev_energy)\n",
        "    if n % 4 == 0: print(\"Iteration = {:},  Energy = {:.8f} Ha\".format(n, energy))\n",
        "    if conv <= conv_tol: break"
      ]
    }
  ],
  "metadata": {
    "kernelspec": {
      "display_name": "Python 3.9.12 ('base')",
      "language": "python",
      "name": "python3"
    },
    "language_info": {
      "codemirror_mode": {
        "name": "ipython",
        "version": 3
      },
      "file_extension": ".py",
      "mimetype": "text/x-python",
      "name": "python",
      "nbconvert_exporter": "python",
      "pygments_lexer": "ipython3",
      "version": "3.9.12"
    },
    "vscode": {
      "interpreter": {
        "hash": "20e93c9217e50f5b7e8f58f0ec1a125a9f1281af040fc29b342dc4e96a3c4fdb"
      }
    }
  },
  "nbformat": 4,
  "nbformat_minor": 0
}
