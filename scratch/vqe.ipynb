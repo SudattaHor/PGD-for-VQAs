{
 "cells": [
  {
   "cell_type": "code",
   "execution_count": 1,
   "metadata": {},
   "outputs": [],
   "source": [
    "import numpy as np\n",
    "from qiskit import Aer\n",
    "from qiskit import QuantumCircuit, ClassicalRegister, QuantumRegister\n",
    "from qiskit.opflow import X, Y, Z, I, StateFn, PauliExpectation, CircuitSampler, Gradient\n",
    "from qiskit.utils import QuantumInstance\n",
    "from qiskit.circuit import ParameterVector"
   ]
  },
  {
   "cell_type": "code",
   "execution_count": 2,
   "metadata": {},
   "outputs": [],
   "source": [
    "# BACKEND\n",
    "quantum_instance = QuantumInstance(Aer.get_backend('qasm_simulator'),\n",
    "                                   # we'll set a seed for reproducibility\n",
    "                                   shots = 8192, seed_simulator = 2718,\n",
    "                                   seed_transpiler = 2718)\n",
    "sampler = CircuitSampler(quantum_instance)"
   ]
  },
  {
   "cell_type": "code",
   "execution_count": 3,
   "metadata": {},
   "outputs": [],
   "source": [
    "# HAMILTONIAN\n",
    "hamiltonian = (-0.24274280046556912) * (I ^ I ^ Z ^ I)\\\n",
    "+ (-0.24274280046556912) * (I^I^I^Z) \\\n",
    "+ (-0.04207898539392574) * (I^I^I^I) \\\n",
    "+ (0.17771287502700941) * (Z^I^I^I) \\\n",
    "+ (0.17771287502700941) * (I^Z^I^I)\\\n",
    "+ (0.12293305045306256) * (Z^I^Z^I) \\\n",
    "+ (0.12293305045306256) * (I^Z^I^Z) \\\n",
    "+ (0.1676831943187453) * (Z^I^I^Z) \\\n",
    "+ (0.1676831943187453) * (I^Z^Z^I) \\\n",
    "+ (0.17059738365072868) * (Z^Z^I^I) \\\n",
    "+ (0.17627640722384352) * (I^I^Z^Z) \\\n",
    "+ (-0.04475014386568271) * (Y^Y^X^X) \\\n",
    "+ (-0.04475014386568271) * (X^X^Y^Y) \\\n",
    "+ (0.04475014386568271) * (Y^X^X^Y) \\\n",
    "+ (0.04475014386568271) * (X^Y^Y^X)"
   ]
  },
  {
   "cell_type": "code",
   "execution_count": 4,
   "metadata": {},
   "outputs": [],
   "source": [
    "# INITIAL POINT\n",
    "np.random.seed(0)\n",
    "init_params = np.random.uniform(low=0, high=2 * np.pi, size=12)"
   ]
  },
  {
   "cell_type": "code",
   "execution_count": 8,
   "metadata": {},
   "outputs": [
    {
     "data": {
      "image/png": "[encoded data removed]",
      "text/plain": [
       "<Figure size 789.163x367.889 with 1 Axes>"
      ]
     },
     "execution_count": 8,
     "metadata": {},
     "output_type": "execute_result"
    }
   ],
   "source": [
    "# ANSATZ\n",
    "nparams = 12\n",
    "nqubits = 4\n",
    "qreg_q = QuantumRegister(nqubits, 'q')\n",
    "circuit = QuantumCircuit(qreg_q)\n",
    "params = ParameterVector('θ', nparams)\n",
    "circuit.initialize('0011')\n",
    "for i in range(nqubits):\n",
    "    circuit.rz(params[3 * i], qreg_q[i])\n",
    "    circuit.ry(params[3 * i + 1], qreg_q[i])\n",
    "    circuit.rz(params[3 * i + 2], qreg_q[i])\n",
    "circuit.cx(qreg_q[2], qreg_q[3])\n",
    "circuit.cx(qreg_q[2], qreg_q[0])\n",
    "circuit.cx(qreg_q[3], qreg_q[1])\n",
    "circuit.draw('mpl')"
   ]
  },
  {
   "cell_type": "code",
   "execution_count": 6,
   "metadata": {},
   "outputs": [
    {
     "data": {
      "text/plain": [
       "0.5149599263488516"
      ]
     },
     "execution_count": 6,
     "metadata": {},
     "output_type": "execute_result"
    }
   ],
   "source": [
    "# COST\n",
    "expectation = StateFn(hamiltonian, is_measurement=True) @ StateFn(ansatz)\n",
    "pauli_basis = PauliExpectation().convert(expectation)\n",
    "def cost(params):\n",
    "    value_dict = dict(zip(ansatz.parameters, params))\n",
    "    result = sampler.convert(pauli_basis, params=value_dict).eval()\n",
    "    return np.real(result)\n",
    "cost([3.44829694e+00, 6.28318531e+00, 3.78727399e+00, 3.42360201e+00,\n",
    " 5.09234599e-08, 4.05827240e+00, 2.74944154e+00, 6.07360302e+00,\n",
    " 6.24620659e+00, 2.40923412e+00, 6.28318531e+00, 3.32314479e+00])"
   ]
  },
  {
   "cell_type": "code",
   "execution_count": 10,
   "metadata": {},
   "outputs": [],
   "source": [
    "gradient = Gradient().convert(expectation)\n",
    "gradient_in_pauli_basis = PauliExpectation().convert(gradient)\n",
    "\n",
    "def evaluate_gradient(theta):\n",
    "    value_dict = dict(zip(ansatz.parameters, theta))\n",
    "    result = sampler.convert(gradient_in_pauli_basis,\n",
    "                             params=value_dict).eval()\n",
    "    return np.real(result)"
   ]
  },
  {
   "cell_type": "code",
   "execution_count": 11,
   "metadata": {},
   "outputs": [],
   "source": [
    "class OptimizerLog:\n",
    "    \"\"\"Log to store optimizer's intermediate results\"\"\"\n",
    "    def __init__(self):\n",
    "        self.loss = []\n",
    "    def update(self, _nfevs, _theta, ftheta, *_):\n",
    "        \"\"\"Save intermediate results. Optimizers pass many values\n",
    "        but we only store the third .\"\"\"\n",
    "        self.loss.append(ftheta)\n",
    "\n",
    "from qiskit.algorithms.optimizers import GradientDescent\n",
    "gd_log = OptimizerLog()\n",
    "gd = GradientDescent(maxiter=300,\n",
    "                     learning_rate=0.5,\n",
    "                     tol=1e-6,\n",
    "                     callback=gd_log.update)"
   ]
  },
  {
   "cell_type": "code",
   "execution_count": 12,
   "metadata": {},
   "outputs": [
    {
     "ename": "KeyboardInterrupt",
     "evalue": "",
     "output_type": "error",
     "traceback": [
      "\u001b[0;31m---------------------------------------------------------------------------\u001b[0m",
      "\u001b[0;31mKeyboardInterrupt\u001b[0m                         Traceback (most recent call last)",
      "Cell \u001b[0;32mIn [12], line 1\u001b[0m\n\u001b[0;32m----> 1\u001b[0m result \u001b[39m=\u001b[39m gd\u001b[39m.\u001b[39;49mminimize(\n\u001b[1;32m      2\u001b[0m     fun\u001b[39m=\u001b[39;49mcost,  \u001b[39m# function to minimize\u001b[39;49;00m\n\u001b[1;32m      3\u001b[0m     x0\u001b[39m=\u001b[39;49minit_params,          \u001b[39m# initial point\u001b[39;49;00m\n\u001b[1;32m      4\u001b[0m     jac\u001b[39m=\u001b[39;49mevaluate_gradient      \u001b[39m# function to evaluate gradient\u001b[39;49;00m\n\u001b[1;32m      5\u001b[0m )\n\u001b[1;32m      7\u001b[0m \u001b[39mimport\u001b[39;00m \u001b[39mmatplotlib\u001b[39;00m\u001b[39m.\u001b[39;00m\u001b[39mpyplot\u001b[39;00m \u001b[39mas\u001b[39;00m \u001b[39mplt\u001b[39;00m\n\u001b[1;32m      8\u001b[0m plt\u001b[39m.\u001b[39mfigure(figsize\u001b[39m=\u001b[39m(\u001b[39m7\u001b[39m, \u001b[39m3\u001b[39m))\n",
      "File \u001b[0;32m~/miniconda3/lib/python3.9/site-packages/qiskit/algorithms/optimizers/steppable_optimizer.py:278\u001b[0m, in \u001b[0;36mSteppableOptimizer.minimize\u001b[0;34m(self, fun, x0, jac, bounds)\u001b[0m\n\u001b[1;32m    276\u001b[0m \u001b[39mself\u001b[39m\u001b[39m.\u001b[39mstart(x0\u001b[39m=\u001b[39mx0, fun\u001b[39m=\u001b[39mfun, jac\u001b[39m=\u001b[39mjac, bounds\u001b[39m=\u001b[39mbounds)\n\u001b[1;32m    277\u001b[0m \u001b[39mwhile\u001b[39;00m \u001b[39mself\u001b[39m\u001b[39m.\u001b[39mcontinue_condition():\n\u001b[0;32m--> 278\u001b[0m     \u001b[39mself\u001b[39;49m\u001b[39m.\u001b[39;49mstep()\n\u001b[1;32m    279\u001b[0m     \u001b[39mself\u001b[39m\u001b[39m.\u001b[39m_callback_wrapper()\n\u001b[1;32m    280\u001b[0m \u001b[39mreturn\u001b[39;00m \u001b[39mself\u001b[39m\u001b[39m.\u001b[39mcreate_result()\n",
      "File \u001b[0;32m~/miniconda3/lib/python3.9/site-packages/qiskit/algorithms/optimizers/steppable_optimizer.py:230\u001b[0m, in \u001b[0;36mSteppableOptimizer.step\u001b[0;34m(self)\u001b[0m\n\u001b[1;32m    224\u001b[0m \u001b[39m\"\"\"Performs one step in the optimization process.\u001b[39;00m\n\u001b[1;32m    225\u001b[0m \n\u001b[1;32m    226\u001b[0m \u001b[39mThis method composes :meth:`~.ask`, :meth:`~.evaluate`, and :meth:`~.tell` to make a \"step\"\u001b[39;00m\n\u001b[1;32m    227\u001b[0m \u001b[39min the optimization process.\u001b[39;00m\n\u001b[1;32m    228\u001b[0m \u001b[39m\"\"\"\u001b[39;00m\n\u001b[1;32m    229\u001b[0m ask_data \u001b[39m=\u001b[39m \u001b[39mself\u001b[39m\u001b[39m.\u001b[39mask()\n\u001b[0;32m--> 230\u001b[0m tell_data \u001b[39m=\u001b[39m \u001b[39mself\u001b[39;49m\u001b[39m.\u001b[39;49mevaluate(ask_data\u001b[39m=\u001b[39;49mask_data)\n\u001b[1;32m    231\u001b[0m \u001b[39mself\u001b[39m\u001b[39m.\u001b[39mtell(ask_data\u001b[39m=\u001b[39mask_data, tell_data\u001b[39m=\u001b[39mtell_data)\n",
      "File \u001b[0;32m~/miniconda3/lib/python3.9/site-packages/qiskit/algorithms/optimizers/gradient_descent.py:332\u001b[0m, in \u001b[0;36mGradientDescent.evaluate\u001b[0;34m(self, ask_data)\u001b[0m\n\u001b[1;32m    330\u001b[0m     \u001b[39mself\u001b[39m\u001b[39m.\u001b[39mstate\u001b[39m.\u001b[39mnfev \u001b[39m+\u001b[39m\u001b[39m=\u001b[39m \u001b[39m1\u001b[39m \u001b[39m+\u001b[39m \u001b[39mlen\u001b[39m(ask_data\u001b[39m.\u001b[39mx_jac)\n\u001b[1;32m    331\u001b[0m \u001b[39melse\u001b[39;00m:\n\u001b[0;32m--> 332\u001b[0m     grad \u001b[39m=\u001b[39m \u001b[39mself\u001b[39;49m\u001b[39m.\u001b[39;49mstate\u001b[39m.\u001b[39;49mjac(ask_data\u001b[39m.\u001b[39;49mx_jac)\n\u001b[1;32m    333\u001b[0m     \u001b[39mself\u001b[39m\u001b[39m.\u001b[39mstate\u001b[39m.\u001b[39mnjev \u001b[39m+\u001b[39m\u001b[39m=\u001b[39m \u001b[39m1\u001b[39m\n\u001b[1;32m    335\u001b[0m \u001b[39mreturn\u001b[39;00m TellData(eval_jac\u001b[39m=\u001b[39mgrad)\n",
      "Cell \u001b[0;32mIn [10], line 6\u001b[0m, in \u001b[0;36mevaluate_gradient\u001b[0;34m(theta)\u001b[0m\n\u001b[1;32m      4\u001b[0m \u001b[39mdef\u001b[39;00m \u001b[39mevaluate_gradient\u001b[39m(theta):\n\u001b[1;32m      5\u001b[0m     value_dict \u001b[39m=\u001b[39m \u001b[39mdict\u001b[39m(\u001b[39mzip\u001b[39m(ansatz\u001b[39m.\u001b[39mparameters, theta))\n\u001b[0;32m----> 6\u001b[0m     result \u001b[39m=\u001b[39m sampler\u001b[39m.\u001b[39;49mconvert(gradient_in_pauli_basis,\n\u001b[1;32m      7\u001b[0m                              params\u001b[39m=\u001b[39;49mvalue_dict)\u001b[39m.\u001b[39;49meval()\n\u001b[1;32m      8\u001b[0m     \u001b[39mreturn\u001b[39;00m np\u001b[39m.\u001b[39mreal(result)\n",
      "File \u001b[0;32m~/miniconda3/lib/python3.9/site-packages/qiskit/opflow/list_ops/list_op.py:433\u001b[0m, in \u001b[0;36mListOp.eval\u001b[0;34m(self, front)\u001b[0m\n\u001b[1;32m    428\u001b[0m \u001b[39mif\u001b[39;00m \u001b[39mnot\u001b[39;00m \u001b[39mself\u001b[39m\u001b[39m.\u001b[39mdistributive:\n\u001b[1;32m    429\u001b[0m     \u001b[39mraise\u001b[39;00m \u001b[39mNotImplementedError\u001b[39;00m(\n\u001b[1;32m    430\u001b[0m         \u001b[39m\"\u001b[39m\u001b[39mListOp\u001b[39m\u001b[39m'\u001b[39m\u001b[39ms eval function is only defined for distributive ListOps.\u001b[39m\u001b[39m\"\u001b[39m\n\u001b[1;32m    431\u001b[0m     )\n\u001b[0;32m--> 433\u001b[0m evals \u001b[39m=\u001b[39m [op\u001b[39m.\u001b[39meval(front) \u001b[39mfor\u001b[39;00m op \u001b[39min\u001b[39;00m \u001b[39mself\u001b[39m\u001b[39m.\u001b[39moplist]\n\u001b[1;32m    435\u001b[0m \u001b[39m# Handle application of combo_fn for DictStateFn resp VectorStateFn operators\u001b[39;00m\n\u001b[1;32m    436\u001b[0m \u001b[39mif\u001b[39;00m \u001b[39mself\u001b[39m\u001b[39m.\u001b[39m_combo_fn \u001b[39mis\u001b[39;00m \u001b[39mnot\u001b[39;00m \u001b[39mNone\u001b[39;00m:  \u001b[39m# If not using default.\u001b[39;00m\n",
      "File \u001b[0;32m~/miniconda3/lib/python3.9/site-packages/qiskit/opflow/list_ops/list_op.py:433\u001b[0m, in \u001b[0;36m<listcomp>\u001b[0;34m(.0)\u001b[0m\n\u001b[1;32m    428\u001b[0m \u001b[39mif\u001b[39;00m \u001b[39mnot\u001b[39;00m \u001b[39mself\u001b[39m\u001b[39m.\u001b[39mdistributive:\n\u001b[1;32m    429\u001b[0m     \u001b[39mraise\u001b[39;00m \u001b[39mNotImplementedError\u001b[39;00m(\n\u001b[1;32m    430\u001b[0m         \u001b[39m\"\u001b[39m\u001b[39mListOp\u001b[39m\u001b[39m'\u001b[39m\u001b[39ms eval function is only defined for distributive ListOps.\u001b[39m\u001b[39m\"\u001b[39m\n\u001b[1;32m    431\u001b[0m     )\n\u001b[0;32m--> 433\u001b[0m evals \u001b[39m=\u001b[39m [op\u001b[39m.\u001b[39;49meval(front) \u001b[39mfor\u001b[39;00m op \u001b[39min\u001b[39;00m \u001b[39mself\u001b[39m\u001b[39m.\u001b[39moplist]\n\u001b[1;32m    435\u001b[0m \u001b[39m# Handle application of combo_fn for DictStateFn resp VectorStateFn operators\u001b[39;00m\n\u001b[1;32m    436\u001b[0m \u001b[39mif\u001b[39;00m \u001b[39mself\u001b[39m\u001b[39m.\u001b[39m_combo_fn \u001b[39mis\u001b[39;00m \u001b[39mnot\u001b[39;00m \u001b[39mNone\u001b[39;00m:  \u001b[39m# If not using default.\u001b[39;00m\n",
      "File \u001b[0;32m~/miniconda3/lib/python3.9/site-packages/qiskit/opflow/list_ops/list_op.py:433\u001b[0m, in \u001b[0;36mListOp.eval\u001b[0;34m(self, front)\u001b[0m\n\u001b[1;32m    428\u001b[0m \u001b[39mif\u001b[39;00m \u001b[39mnot\u001b[39;00m \u001b[39mself\u001b[39m\u001b[39m.\u001b[39mdistributive:\n\u001b[1;32m    429\u001b[0m     \u001b[39mraise\u001b[39;00m \u001b[39mNotImplementedError\u001b[39;00m(\n\u001b[1;32m    430\u001b[0m         \u001b[39m\"\u001b[39m\u001b[39mListOp\u001b[39m\u001b[39m'\u001b[39m\u001b[39ms eval function is only defined for distributive ListOps.\u001b[39m\u001b[39m\"\u001b[39m\n\u001b[1;32m    431\u001b[0m     )\n\u001b[0;32m--> 433\u001b[0m evals \u001b[39m=\u001b[39m [op\u001b[39m.\u001b[39meval(front) \u001b[39mfor\u001b[39;00m op \u001b[39min\u001b[39;00m \u001b[39mself\u001b[39m\u001b[39m.\u001b[39moplist]\n\u001b[1;32m    435\u001b[0m \u001b[39m# Handle application of combo_fn for DictStateFn resp VectorStateFn operators\u001b[39;00m\n\u001b[1;32m    436\u001b[0m \u001b[39mif\u001b[39;00m \u001b[39mself\u001b[39m\u001b[39m.\u001b[39m_combo_fn \u001b[39mis\u001b[39;00m \u001b[39mnot\u001b[39;00m \u001b[39mNone\u001b[39;00m:  \u001b[39m# If not using default.\u001b[39;00m\n",
      "File \u001b[0;32m~/miniconda3/lib/python3.9/site-packages/qiskit/opflow/list_ops/list_op.py:433\u001b[0m, in \u001b[0;36m<listcomp>\u001b[0;34m(.0)\u001b[0m\n\u001b[1;32m    428\u001b[0m \u001b[39mif\u001b[39;00m \u001b[39mnot\u001b[39;00m \u001b[39mself\u001b[39m\u001b[39m.\u001b[39mdistributive:\n\u001b[1;32m    429\u001b[0m     \u001b[39mraise\u001b[39;00m \u001b[39mNotImplementedError\u001b[39;00m(\n\u001b[1;32m    430\u001b[0m         \u001b[39m\"\u001b[39m\u001b[39mListOp\u001b[39m\u001b[39m'\u001b[39m\u001b[39ms eval function is only defined for distributive ListOps.\u001b[39m\u001b[39m\"\u001b[39m\n\u001b[1;32m    431\u001b[0m     )\n\u001b[0;32m--> 433\u001b[0m evals \u001b[39m=\u001b[39m [op\u001b[39m.\u001b[39;49meval(front) \u001b[39mfor\u001b[39;00m op \u001b[39min\u001b[39;00m \u001b[39mself\u001b[39m\u001b[39m.\u001b[39moplist]\n\u001b[1;32m    435\u001b[0m \u001b[39m# Handle application of combo_fn for DictStateFn resp VectorStateFn operators\u001b[39;00m\n\u001b[1;32m    436\u001b[0m \u001b[39mif\u001b[39;00m \u001b[39mself\u001b[39m\u001b[39m.\u001b[39m_combo_fn \u001b[39mis\u001b[39;00m \u001b[39mnot\u001b[39;00m \u001b[39mNone\u001b[39;00m:  \u001b[39m# If not using default.\u001b[39;00m\n",
      "File \u001b[0;32m~/miniconda3/lib/python3.9/site-packages/qiskit/opflow/list_ops/composed_op.py:141\u001b[0m, in \u001b[0;36mComposedOp.eval\u001b[0;34m(self, front)\u001b[0m\n\u001b[1;32m    138\u001b[0m \u001b[39melif\u001b[39;00m front:\n\u001b[1;32m    139\u001b[0m     eval_list \u001b[39m=\u001b[39m [StateFn(front, is_measurement\u001b[39m=\u001b[39m\u001b[39mTrue\u001b[39;00m)] \u001b[39m+\u001b[39m eval_list  \u001b[39m# type: ignore\u001b[39;00m\n\u001b[0;32m--> 141\u001b[0m \u001b[39mreturn\u001b[39;00m reduce(tree_recursive_eval, \u001b[39mreversed\u001b[39;49m(eval_list))\n",
      "File \u001b[0;32m~/miniconda3/lib/python3.9/site-packages/qiskit/opflow/list_ops/composed_op.py:131\u001b[0m, in \u001b[0;36mComposedOp.eval.<locals>.tree_recursive_eval\u001b[0;34m(r, l_arg)\u001b[0m\n\u001b[1;32m    129\u001b[0m     \u001b[39mreturn\u001b[39;00m [tree_recursive_eval(r_op, l_arg) \u001b[39mfor\u001b[39;00m r_op \u001b[39min\u001b[39;00m r]\n\u001b[1;32m    130\u001b[0m \u001b[39melse\u001b[39;00m:\n\u001b[0;32m--> 131\u001b[0m     \u001b[39mreturn\u001b[39;00m l_arg\u001b[39m.\u001b[39;49meval(r)\n",
      "File \u001b[0;32m~/miniconda3/lib/python3.9/site-packages/qiskit/opflow/state_fns/operator_state_fn.py:251\u001b[0m, in \u001b[0;36mOperatorStateFn.eval\u001b[0;34m(self, front)\u001b[0m\n\u001b[1;32m    248\u001b[0m \u001b[39mif\u001b[39;00m \u001b[39misinstance\u001b[39m(front, CircuitStateFn):\n\u001b[1;32m    249\u001b[0m     front \u001b[39m=\u001b[39m front\u001b[39m.\u001b[39meval()\n\u001b[0;32m--> 251\u001b[0m \u001b[39mreturn\u001b[39;00m front\u001b[39m.\u001b[39madjoint()\u001b[39m.\u001b[39meval(cast(OperatorBase, \u001b[39mself\u001b[39;49m\u001b[39m.\u001b[39;49mprimitive\u001b[39m.\u001b[39;49meval(front))) \u001b[39m*\u001b[39m \u001b[39mself\u001b[39m\u001b[39m.\u001b[39mcoeff\n",
      "File \u001b[0;32m~/miniconda3/lib/python3.9/site-packages/qiskit/opflow/primitive_ops/pauli_op.py:261\u001b[0m, in \u001b[0;36mPauliOp.eval\u001b[0;34m(self, front)\u001b[0m\n\u001b[1;32m    255\u001b[0m         new_dict[new_str] \u001b[39m=\u001b[39m (v \u001b[39m*\u001b[39m z_factor \u001b[39m*\u001b[39m y_factor) \u001b[39m+\u001b[39m new_dict\u001b[39m.\u001b[39mget(new_str, \u001b[39m0\u001b[39m)\n\u001b[1;32m    256\u001b[0m         \u001b[39m# The coefficient consists of:\u001b[39;00m\n\u001b[1;32m    257\u001b[0m         \u001b[39m#   1. the coefficient of *this* PauliOp (self)\u001b[39;00m\n\u001b[1;32m    258\u001b[0m         \u001b[39m#   2. the coefficient of the evaluated DictStateFn (front)\u001b[39;00m\n\u001b[1;32m    259\u001b[0m         \u001b[39m#   3. AND acquires the phase of the internal primitive. This is necessary to\u001b[39;00m\n\u001b[1;32m    260\u001b[0m         \u001b[39m#      ensure that (X @ Z) and (-iY) return the same result.\u001b[39;00m\n\u001b[0;32m--> 261\u001b[0m         new_front \u001b[39m=\u001b[39m StateFn(\n\u001b[1;32m    262\u001b[0m             new_dict, coeff\u001b[39m=\u001b[39;49m\u001b[39mself\u001b[39;49m\u001b[39m.\u001b[39;49mcoeff \u001b[39m*\u001b[39;49m front\u001b[39m.\u001b[39;49mcoeff \u001b[39m*\u001b[39;49m (\u001b[39m-\u001b[39;49m\u001b[39m1\u001b[39;49mj) \u001b[39m*\u001b[39;49m\u001b[39m*\u001b[39;49m \u001b[39mself\u001b[39;49m\u001b[39m.\u001b[39;49mprimitive\u001b[39m.\u001b[39;49mphase\n\u001b[1;32m    263\u001b[0m         )\n\u001b[1;32m    265\u001b[0m \u001b[39melif\u001b[39;00m \u001b[39misinstance\u001b[39m(front, StateFn) \u001b[39mand\u001b[39;00m front\u001b[39m.\u001b[39mis_measurement:\n\u001b[1;32m    266\u001b[0m     \u001b[39mraise\u001b[39;00m \u001b[39mValueError\u001b[39;00m(\u001b[39m\"\u001b[39m\u001b[39mOperator composed with a measurement is undefined.\u001b[39m\u001b[39m\"\u001b[39m)\n",
      "File \u001b[0;32m~/miniconda3/lib/python3.9/site-packages/qiskit/opflow/state_fns/state_fn.py:50\u001b[0m, in \u001b[0;36mStateFn.__new__\u001b[0;34m(cls, primitive, coeff, is_measurement)\u001b[0m\n\u001b[1;32m     47\u001b[0m \u001b[39mdef\u001b[39;00m \u001b[39m__init_subclass__\u001b[39m(\u001b[39mcls\u001b[39m):\n\u001b[1;32m     48\u001b[0m     \u001b[39mcls\u001b[39m\u001b[39m.\u001b[39m\u001b[39m__new__\u001b[39m \u001b[39m=\u001b[39m \u001b[39mlambda\u001b[39;00m \u001b[39mcls\u001b[39m, \u001b[39m*\u001b[39margs, \u001b[39m*\u001b[39m\u001b[39m*\u001b[39mkwargs: \u001b[39msuper\u001b[39m()\u001b[39m.\u001b[39m\u001b[39m__new__\u001b[39m(\u001b[39mcls\u001b[39m)\n\u001b[0;32m---> 50\u001b[0m \u001b[39m@staticmethod\u001b[39m\n\u001b[1;32m     51\u001b[0m \u001b[39m# pylint: disable=unused-argument\u001b[39;00m\n\u001b[1;32m     52\u001b[0m \u001b[39mdef\u001b[39;00m \u001b[39m__new__\u001b[39m(\n\u001b[1;32m     53\u001b[0m     \u001b[39mcls\u001b[39m,\n\u001b[1;32m     54\u001b[0m     primitive: Union[\n\u001b[1;32m     55\u001b[0m         \u001b[39mstr\u001b[39m,\n\u001b[1;32m     56\u001b[0m         \u001b[39mdict\u001b[39m,\n\u001b[1;32m     57\u001b[0m         Result,\n\u001b[1;32m     58\u001b[0m         \u001b[39mlist\u001b[39m,\n\u001b[1;32m     59\u001b[0m         np\u001b[39m.\u001b[39mndarray,\n\u001b[1;32m     60\u001b[0m         Statevector,\n\u001b[1;32m     61\u001b[0m         QuantumCircuit,\n\u001b[1;32m     62\u001b[0m         Instruction,\n\u001b[1;32m     63\u001b[0m         OperatorBase,\n\u001b[1;32m     64\u001b[0m     ] \u001b[39m=\u001b[39m \u001b[39mNone\u001b[39;00m,\n\u001b[1;32m     65\u001b[0m     coeff: Union[\u001b[39mcomplex\u001b[39m, ParameterExpression] \u001b[39m=\u001b[39m \u001b[39m1.0\u001b[39m,\n\u001b[1;32m     66\u001b[0m     is_measurement: \u001b[39mbool\u001b[39m \u001b[39m=\u001b[39m \u001b[39mFalse\u001b[39;00m,\n\u001b[1;32m     67\u001b[0m ) \u001b[39m-\u001b[39m\u001b[39m>\u001b[39m \u001b[39m\"\u001b[39m\u001b[39mStateFn\u001b[39m\u001b[39m\"\u001b[39m:\n\u001b[1;32m     68\u001b[0m     \u001b[39m\"\"\"A factory method to produce the correct type of StateFn subclass\u001b[39;00m\n\u001b[1;32m     69\u001b[0m \u001b[39m    based on the primitive passed in. Primitive, coeff, and is_measurement arguments\u001b[39;00m\n\u001b[1;32m     70\u001b[0m \u001b[39m    are passed into subclass's init() as-is automatically by new().\u001b[39;00m\n\u001b[0;32m   (...)\u001b[0m\n\u001b[1;32m     81\u001b[0m \u001b[39m        TypeError: Unsupported primitive type passed.\u001b[39;00m\n\u001b[1;32m     82\u001b[0m \u001b[39m    \"\"\"\u001b[39;00m\n\u001b[1;32m     84\u001b[0m     \u001b[39m# Prevents infinite recursion when subclasses are created\u001b[39;00m\n",
      "\u001b[0;31mKeyboardInterrupt\u001b[0m: "
     ]
    }
   ],
   "source": [
    "result = gd.minimize(\n",
    "    fun=cost,  # function to minimize\n",
    "    x0=init_params,          # initial point\n",
    "    jac=evaluate_gradient      # function to evaluate gradient\n",
    ")\n",
    "\n",
    "import matplotlib.pyplot as plt\n",
    "plt.figure(figsize=(7, 3))\n",
    "plt.plot(gd_log.loss, label='vanilla gradient descent')\n",
    "plt.axhline(-1, ls='--', c='C3', label='target')\n",
    "plt.ylabel('loss')\n",
    "plt.xlabel('iterations')\n",
    "plt.legend();"
   ]
  }
 ],
 "metadata": {
  "kernelspec": {
   "display_name": "Python 3.9.12 ('base')",
   "language": "python",
   "name": "python3"
  },
  "language_info": {
   "codemirror_mode": {
    "name": "ipython",
    "version": 3
   },
   "file_extension": ".py",
   "mimetype": "text/x-python",
   "name": "python",
   "nbconvert_exporter": "python",
   "pygments_lexer": "ipython3",
   "version": "3.9.12"
  },
  "orig_nbformat": 4,
  "vscode": {
   "interpreter": {
    "hash": "20e93c9217e50f5b7e8f58f0ec1a125a9f1281af040fc29b342dc4e96a3c4fdb"
   }
  }
 },
 "nbformat": 4,
 "nbformat_minor": 2
}
